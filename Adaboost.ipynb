{
 "cells": [
  {
   "cell_type": "markdown",
   "metadata": {},
   "source": [
    "ИТОГ\n",
    "\n",
    "Почему то на разных игрушечных датасетах из sklearn классификатор всегда находит (локальный?) оптимум и не выходит из него считая его лучшим разделителем выборки. Потерял интерес после того, как не понял правильное ли это поведение или нет."
   ]
  },
  {
   "cell_type": "markdown",
   "metadata": {},
   "source": [
    "# Open toy dataset"
   ]
  },
  {
   "cell_type": "code",
   "execution_count": 329,
   "metadata": {},
   "outputs": [],
   "source": [
    "from sklearn.datasets import load_breast_cancer\n",
    "# from sklearn.datasets import load_wine\n",
    "data = load_breast_cancer()\n",
    "# top = 130\n",
    "top = 99999\n",
    "X = data.data[:top, :2]\n",
    "y = data.target[:top]\n"
   ]
  },
  {
   "cell_type": "markdown",
   "metadata": {},
   "source": [
    "# Decision Tree Classifier"
   ]
  },
  {
   "cell_type": "code",
   "execution_count": 330,
   "metadata": {},
   "outputs": [],
   "source": [
    "class DecisionStump():\n",
    "    \"\"\"\n",
    "    Weak classifier.\n",
    "    Is equal to sklearn.tree.DecisionTreeClassifier(max_depth=1, max_leaf_nodes=2)\n",
    "    \"\"\"\n",
    "    def __init__(self):\n",
    "        self.feature_index = None\n",
    "        self.threshold = None\n",
    "        self.threshold_w = None\n",
    "        self.alpha = None\n",
    "        self.missclassified = None\n",
    "        \n",
    "    def fit(self, X, y, sample_weight=None):\n",
    "        \"\"\"\n",
    "        find best split (threshold) in descicion tree node\n",
    "        \"\"\"\n",
    "        if sample_weight is None:\n",
    "            sample_weight = [1] * X.shape[0]\n",
    "        y[y == 0] = -1\n",
    "        thresholds = np.unique(X)\n",
    "        missclassified_ = []\n",
    "        for n, x_j in enumerate(thresholds):\n",
    "            self.threshold = x_j\n",
    "            self.threshold_w = x_j*sample_weight[n]\n",
    "            weak_learner_preds = self.predict(X, sample_weight)\n",
    "            missclassified_.append(self.missclassification(y, weak_learner_preds))\n",
    "        self.threshold = thresholds[np.argmin(missclassified_)]\n",
    "        self.threshold_w = self.threshold*sample_weight[np.argmin(missclassified_)]\n",
    "        self.missclassified = self.missclassification(y, self.predict(X, sample_weight))\n",
    "        \n",
    "    def missclassification(self, y, y_hat):\n",
    "        return sum(y != y_hat)\n",
    "    \n",
    "    def predict(self, X, weights, use_weighted_thresh=True):\n",
    "        preds = np.ones(X.shape[0])\n",
    "        if use_weighted_thresh:\n",
    "            preds[X*weights < self.threshold_w] = 3\n",
    "        else:\n",
    "            preds[X*weights < self.threshold] = 3\n",
    "        preds -= 2\n",
    "        return preds"
   ]
  },
  {
   "cell_type": "markdown",
   "metadata": {},
   "source": [
    "# AdaBoost"
   ]
  },
  {
   "cell_type": "code",
   "execution_count": 341,
   "metadata": {},
   "outputs": [
    {
     "name": "stdout",
     "output_type": "stream",
     "text": [
      "accuracy 1.050688309273046\n",
      "Точка сплита слабого классификатора: 15.05\n",
      "accuracy 1.9632318447914703\n",
      "Точка сплита слабого классификатора: 15.05\n",
      "accuracy 1.9632318447914703\n",
      "Точка сплита слабого классификатора: 15.05\n",
      "accuracy 1.9632318447914703\n",
      "Точка сплита слабого классификатора: 15.05\n",
      "accuracy 1.9632318447914703\n",
      "Точка сплита слабого классификатора: 15.05\n"
     ]
    }
   ],
   "source": [
    "import numpy as np\n",
    "\n",
    "\n",
    "class AdaBoost():\n",
    "    def __init__(self, estimators=5):\n",
    "        self.weights = np.expand_dims(np.ones(1), axis=0) # empty weights, redundant\n",
    "        self.estimators = estimators\n",
    "        self.weak_learners = []\n",
    "    \n",
    "    def accuracy(self, loss):\n",
    "        \"\"\"\n",
    "        \"\"\"\n",
    "        return np.log((1 - loss) / loss) / 2 # do we really need to divide by 2?\n",
    "        \n",
    "    def fit(self, X, y):\n",
    "        self.weights = np.ones(X.shape) / X.shape[0]\n",
    "        for i in range(self.estimators):\n",
    "            temp_clfs = []\n",
    "            for feature in range(X.shape[1]):\n",
    "                clf = DecisionStump()\n",
    "                clf.fit(X[:,feature], y, sample_weight=self.weights[:,feature])\n",
    "                temp_clfs.append(clf)\n",
    "\n",
    "            best_weak_learner_index = np.argmin([temp_clf.missclassified for temp_clf in temp_clfs])  # choose best weak learner\n",
    "            self.weak_learners.append(temp_clfs[best_weak_learner_index])               # save it\n",
    "            acc = self.accuracy(self.weak_learners[-1].missclassified / X.shape[0])     # count its accuracy\n",
    "            print('accuracy', acc)\n",
    "            self.weak_learners[-1].alpha = acc                                          # save it inside weak learner\n",
    "            self.weak_learners[-1].feature_index = best_weak_learner_index              # save feature index by which we split\n",
    "            y_hat = self.weak_learners[-1].predict(X[:,best_weak_learner_index], self.weights[:,best_weak_learner_index])\n",
    "            \n",
    "            print('Точка сплита слабого классификатора:', self.weak_learners[-1].threshold)\n",
    "            \n",
    "            # update weights\n",
    "            self.weights[:,best_weak_learner_index] = (self.weights[:,best_weak_learner_index] * np.exp(-acc * y * y_hat)) / self.weights[:,best_weak_learner_index].sum()\n",
    "\n",
    "    def predict(self, X):\n",
    "        # TODO не доделан\n",
    "        preds = []\n",
    "        for x_i in range(X.shape[0]):\n",
    "            x_i_pred = []\n",
    "            for weak_learner in self.weak_learners:\n",
    "                preds.append(weak_learner.predict(X[x_i:x_i+1,weak_learner.feature_index], self.weights))  #  * weak_learner.alpha\n",
    "            \n",
    "        return np.sign()\n",
    "                \n",
    "    \n",
    "clf = AdaBoost()\n",
    "clf.fit(X, y)\n",
    "# clf.predict(X[:3,:])\n"
   ]
  },
  {
   "cell_type": "code",
   "execution_count": 338,
   "metadata": {},
   "outputs": [
    {
     "data": {
      "image/png": "[encoded data removed]",
      "text/plain": [
       "<Figure size 432x432 with 1 Axes>"
      ]
     },
     "metadata": {
      "needs_background": "light"
     },
     "output_type": "display_data"
    }
   ],
   "source": [
    "import matplotlib.pyplot as plt\n",
    "import numpy as np\n",
    "\n",
    "# x1 = (np.ones(X.shape) / X.shape[0] * X)[:,0]\n",
    "# x2 = (np.ones(X.shape) / X.shape[0] * X)[:,1]\n",
    "x1 = X[:,0]\n",
    "x2 = X[:,1]\n",
    "z = y\n",
    "\n",
    "fig = plt.figure(figsize=(6, 6))\n",
    "plt.scatter(x1, x2,\n",
    "           linewidths=1, alpha=.7,\n",
    "           edgecolor='k',\n",
    "           s = 30,\n",
    "           c=z)\n",
    "\n",
    "line1 = 15.05 # / X.shape[0]\n",
    "# line2 = 19.62 # / X.shape[0]\n",
    "plt.plot([line1, line1], [2, line1*3], marker = '_') # /X.shape[0]\n",
    "# plt.plot([line2, 7], [line2, line2], marker = '_') # /X.shape[0] \n",
    "plt.xlabel(\"X1\")\n",
    "plt.ylabel(\"X2\")\n",
    "plt.show()"
   ]
  },
  {
   "cell_type": "markdown",
   "metadata": {},
   "source": [
    "# classify stumps by hand"
   ]
  },
  {
   "cell_type": "markdown",
   "metadata": {},
   "source": [
    "### first weak classifier"
   ]
  },
  {
   "cell_type": "code",
   "execution_count": 312,
   "metadata": {},
   "outputs": [
    {
     "data": {
      "text/plain": [
       "(array([0.00175747, 0.00175747]), (569,))"
      ]
     },
     "execution_count": 312,
     "metadata": {},
     "output_type": "execute_result"
    }
   ],
   "source": [
    "clf1 = DecisionStump()\n",
    "clf2 = DecisionStump()\n",
    "weights = np.ones(X.shape) / X.shape[0]\n",
    "weights[0,:], y.shape"
   ]
  },
  {
   "cell_type": "code",
   "execution_count": 313,
   "metadata": {},
   "outputs": [],
   "source": [
    "clf1.fit(X[:,0], y, sample_weight=weights[:,0])\n",
    "clf2.fit(X[:,1], y, sample_weight=weights[:,1])"
   ]
  },
  {
   "cell_type": "code",
   "execution_count": 314,
   "metadata": {},
   "outputs": [
    {
     "data": {
      "text/plain": [
       "(62, 15.05, 0.026449912126537786)"
      ]
     },
     "execution_count": 314,
     "metadata": {},
     "output_type": "execute_result"
    }
   ],
   "source": [
    "clf1.missclassified, clf1.threshold, clf1.threshold_w"
   ]
  },
  {
   "cell_type": "code",
   "execution_count": 315,
   "metadata": {},
   "outputs": [
    {
     "data": {
      "text/plain": [
       "(150, 19.62, 0.03448154657293497)"
      ]
     },
     "execution_count": 315,
     "metadata": {},
     "output_type": "execute_result"
    }
   ],
   "source": [
    "clf2.missclassified, clf2.threshold, clf2.threshold_w"
   ]
  },
  {
   "cell_type": "code",
   "execution_count": 316,
   "metadata": {},
   "outputs": [
    {
     "data": {
      "text/plain": [
       "0"
      ]
     },
     "execution_count": 316,
     "metadata": {},
     "output_type": "execute_result"
    }
   ],
   "source": [
    "best_weak_learner_index = np.argmin([temp_clf.missclassified for temp_clf in [clf1, clf2]])  # choose best weak learner\n",
    "best_weak_learner_index"
   ]
  },
  {
   "cell_type": "code",
   "execution_count": 317,
   "metadata": {},
   "outputs": [],
   "source": [
    "weak_learners = []"
   ]
  },
  {
   "cell_type": "code",
   "execution_count": 318,
   "metadata": {},
   "outputs": [],
   "source": [
    "weak_learners.append([clf1, clf2][best_weak_learner_index])               # save it"
   ]
  },
  {
   "cell_type": "code",
   "execution_count": 319,
   "metadata": {},
   "outputs": [],
   "source": [
    "def accuracy(loss):\n",
    "    \"\"\"\n",
    "    explain\n",
    "    \"\"\"\n",
    "    return np.log((1 - loss) / loss) / 2"
   ]
  },
  {
   "cell_type": "code",
   "execution_count": 320,
   "metadata": {},
   "outputs": [
    {
     "data": {
      "text/plain": [
       "1.050688309273046"
      ]
     },
     "execution_count": 320,
     "metadata": {},
     "output_type": "execute_result"
    }
   ],
   "source": [
    "accuracy(weak_learners[-1].missclassified / X.shape[0])"
   ]
  },
  {
   "cell_type": "code",
   "execution_count": 321,
   "metadata": {},
   "outputs": [],
   "source": [
    "weak_learners[-1].alpha = accuracy(weak_learners[-1].missclassified / X.shape[0])"
   ]
  },
  {
   "cell_type": "code",
   "execution_count": 322,
   "metadata": {},
   "outputs": [],
   "source": [
    "weak_learners[-1].feature_index = best_weak_learner_index              # save feature index by which we split"
   ]
  },
  {
   "cell_type": "code",
   "execution_count": 323,
   "metadata": {},
   "outputs": [],
   "source": [
    "y_hat = weak_learners[-1].predict(X[:,best_weak_learner_index], weights[:,best_weak_learner_index])"
   ]
  },
  {
   "cell_type": "code",
   "execution_count": 324,
   "metadata": {},
   "outputs": [
    {
     "data": {
      "text/plain": [
       "1.050688309273046"
      ]
     },
     "execution_count": 324,
     "metadata": {},
     "output_type": "execute_result"
    }
   ],
   "source": [
    "acc = accuracy(sum(y != y_hat)/ X.shape[0])\n",
    "acc"
   ]
  },
  {
   "cell_type": "code",
   "execution_count": 325,
   "metadata": {},
   "outputs": [
    {
     "data": {
      "text/plain": [
       "array([0.00061458, 0.00175747])"
      ]
     },
     "execution_count": 325,
     "metadata": {},
     "output_type": "execute_result"
    }
   ],
   "source": [
    "weights[:,best_weak_learner_index] = (weights[:,best_weak_learner_index] * np.exp(-acc * y * y_hat)) / weights[:,best_weak_learner_index].sum()\n",
    "weights[0,:]"
   ]
  },
  {
   "cell_type": "markdown",
   "metadata": {},
   "source": [
    "### second weak classifier"
   ]
  },
  {
   "cell_type": "code",
   "execution_count": 257,
   "metadata": {},
   "outputs": [],
   "source": [
    "clf3 = DecisionStump()\n",
    "clf4 = DecisionStump()"
   ]
  },
  {
   "cell_type": "code",
   "execution_count": 258,
   "metadata": {},
   "outputs": [],
   "source": [
    "clf3.fit(X[:,0], y, sample_weight=weights[:,0])\n",
    "clf4.fit(X[:,1], y, sample_weight=weights[:,1])"
   ]
  },
  {
   "cell_type": "code",
   "execution_count": 263,
   "metadata": {},
   "outputs": [
    {
     "data": {
      "text/plain": [
       "(11, 15.05, 0.009249454037205946)"
      ]
     },
     "execution_count": 263,
     "metadata": {},
     "output_type": "execute_result"
    }
   ],
   "source": [
    "clf3.missclassified, clf3.threshold, clf3.threshold_w"
   ]
  },
  {
   "cell_type": "code",
   "execution_count": 264,
   "metadata": {},
   "outputs": [
    {
     "data": {
      "text/plain": [
       "(150, 19.62, 0.03448154657293497)"
      ]
     },
     "execution_count": 264,
     "metadata": {},
     "output_type": "execute_result"
    }
   ],
   "source": [
    "clf4.missclassified, clf4.threshold, clf4.threshold_w"
   ]
  },
  {
   "cell_type": "code",
   "execution_count": 268,
   "metadata": {},
   "outputs": [
    {
     "data": {
      "text/plain": [
       "0"
      ]
     },
     "execution_count": 268,
     "metadata": {},
     "output_type": "execute_result"
    }
   ],
   "source": [
    "best_weak_learner_index = np.argmin([temp_clf.missclassified for temp_clf in [clf3, clf4]])  # choose best weak learner\n",
    "best_weak_learner_index"
   ]
  },
  {
   "cell_type": "code",
   "execution_count": 269,
   "metadata": {},
   "outputs": [],
   "source": [
    "weak_learners.append([clf3, clf4][best_weak_learner_index])               # save it"
   ]
  },
  {
   "cell_type": "code",
   "execution_count": 273,
   "metadata": {},
   "outputs": [
    {
     "data": {
      "text/plain": [
       "0.019332161687170474"
      ]
     },
     "execution_count": 273,
     "metadata": {},
     "output_type": "execute_result"
    }
   ],
   "source": [
    "weak_learners[-1].missclassified / X.shape[0]"
   ]
  },
  {
   "cell_type": "code",
   "execution_count": 271,
   "metadata": {},
   "outputs": [
    {
     "data": {
      "text/plain": [
       "1.9632318447914703"
      ]
     },
     "execution_count": 271,
     "metadata": {},
     "output_type": "execute_result"
    }
   ],
   "source": [
    "accuracy(weak_learners[-1].missclassified / X.shape[0])"
   ]
  },
  {
   "cell_type": "code",
   "execution_count": 276,
   "metadata": {},
   "outputs": [],
   "source": [
    "weak_learners[-1].alpha = accuracy(weak_learners[-1].missclassified / X.shape[0])"
   ]
  },
  {
   "cell_type": "code",
   "execution_count": 277,
   "metadata": {},
   "outputs": [],
   "source": [
    "weak_learners[-1].feature_index = best_weak_learner_index              # save feature index by which we split"
   ]
  },
  {
   "cell_type": "code",
   "execution_count": 278,
   "metadata": {},
   "outputs": [],
   "source": [
    "y_hat = weak_learners[-1].predict(X[:,best_weak_learner_index], weights[:,best_weak_learner_index])"
   ]
  },
  {
   "cell_type": "code",
   "execution_count": 279,
   "metadata": {},
   "outputs": [
    {
     "data": {
      "text/plain": [
       "1.9632318447914703"
      ]
     },
     "execution_count": 279,
     "metadata": {},
     "output_type": "execute_result"
    }
   ],
   "source": [
    "acc = accuracy(sum(y != y_hat)/ X.shape[0])\n",
    "acc"
   ]
  },
  {
   "cell_type": "code",
   "execution_count": 280,
   "metadata": {},
   "outputs": [
    {
     "data": {
      "text/plain": [
       "array([0.00013847, 0.00175747])"
      ]
     },
     "execution_count": 280,
     "metadata": {},
     "output_type": "execute_result"
    }
   ],
   "source": [
    "weights[:,best_weak_learner_index] = (weights[:,best_weak_learner_index] * np.exp(-acc * y * y_hat)) / weights[:,best_weak_learner_index].sum()\n",
    "weights[0,:]"
   ]
  },
  {
   "cell_type": "markdown",
   "metadata": {},
   "source": [
    "### third weak classifier"
   ]
  },
  {
   "cell_type": "code",
   "execution_count": 281,
   "metadata": {},
   "outputs": [],
   "source": [
    "clf5 = DecisionStump()\n",
    "clf6 = DecisionStump()\n",
    "clf5.fit(X[:,0], y, sample_weight=weights[:,0])\n",
    "clf6.fit(X[:,1], y, sample_weight=weights[:,1])"
   ]
  },
  {
   "cell_type": "code",
   "execution_count": 282,
   "metadata": {},
   "outputs": [
    {
     "data": {
      "text/plain": [
       "(11, 15.05, 0.002083904382737046)"
      ]
     },
     "execution_count": 282,
     "metadata": {},
     "output_type": "execute_result"
    }
   ],
   "source": [
    "clf5.missclassified, clf5.threshold, clf5.threshold_w"
   ]
  },
  {
   "cell_type": "code",
   "execution_count": 283,
   "metadata": {},
   "outputs": [
    {
     "data": {
      "text/plain": [
       "(150, 19.62, 0.03448154657293497)"
      ]
     },
     "execution_count": 283,
     "metadata": {},
     "output_type": "execute_result"
    }
   ],
   "source": [
    "clf6.missclassified, clf6.threshold, clf6.threshold_w"
   ]
  },
  {
   "cell_type": "markdown",
   "metadata": {},
   "source": [
    "### pred"
   ]
  },
  {
   "cell_type": "code",
   "execution_count": 326,
   "metadata": {},
   "outputs": [
    {
     "data": {
      "text/plain": [
       "array([-1.])"
      ]
     },
     "execution_count": 326,
     "metadata": {},
     "output_type": "execute_result"
    }
   ],
   "source": [
    "preds = np.ones(1)\n",
    "preds[X[0,weak_learners[0].feature_index] < weak_learners[0].threshold] = 3\n",
    "preds -= 2\n",
    "np.sign(preds * weak_learners[0].alpha)"
   ]
  },
  {
   "cell_type": "code",
   "execution_count": 327,
   "metadata": {},
   "outputs": [
    {
     "data": {
      "text/plain": [
       "-1"
      ]
     },
     "execution_count": 327,
     "metadata": {},
     "output_type": "execute_result"
    }
   ],
   "source": [
    "y[0]"
   ]
  },
  {
   "cell_type": "code",
   "execution_count": null,
   "metadata": {},
   "outputs": [],
   "source": []
  },
  {
   "cell_type": "code",
   "execution_count": null,
   "metadata": {},
   "outputs": [],
   "source": []
  }
 ],
 "metadata": {
  "kernelspec": {
   "display_name": "Python 3",
   "language": "python",
   "name": "python3"
  },
  "language_info": {
   "codemirror_mode": {
    "name": "ipython",
    "version": 3
   },
   "file_extension": ".py",
   "mimetype": "text/x-python",
   "name": "python",
   "nbconvert_exporter": "python",
   "pygments_lexer": "ipython3",
   "version": "3.8.5"
  }
 },
 "nbformat": 4,
 "nbformat_minor": 4
}
