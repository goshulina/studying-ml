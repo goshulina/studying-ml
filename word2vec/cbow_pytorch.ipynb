{
 "cells": [
  {
   "cell_type": "markdown",
   "metadata": {},
   "source": [
    "# DataLoader"
   ]
  },
  {
   "cell_type": "code",
   "execution_count": null,
   "metadata": {},
   "outputs": [],
   "source": [
    "import torch\n",
    "from torch.utils.data import DataLoader, Dataset\n",
    "import numpy as np\n",
    "\n",
    "\n",
    "class AnyData(Dataset):\n",
    "    \n",
    "    def __init__(self):\n",
    "        with open('/Users/georgychernousov/studying-ml/word2vec/reviews.txt','r') as f:\n",
    "            reviews = f.readlines()\n",
    "        self.words = ' '.join(reviews).split()[:1000000]\n",
    "        vocab = set(self.words)\n",
    "        vocab_size = len(vocab)\n",
    "        self.n_namples = vocab_size\n",
    "        self.word_to_ix = {word:ix for ix, word in enumerate(vocab)}\n",
    "        self.ix_to_word = {ix:word for ix, word in enumerate(vocab)}\n",
    "        \n",
    "    \n",
    "    def __getitem__(self, index):\n",
    "        \"\"\"\n",
    "        return x, y, where x - context words, y target word\n",
    "        \"\"\"\n",
    "        left_context = self.words[index-2:index]\n",
    "        left_bias = 2 - len(left_context)\n",
    "        right_context = self.words[index+1:index+3+left_bias]\n",
    "        if len(right_context) < 2:\n",
    "            left_context.extend(self.words[index-4:index-2])\n",
    "        \n",
    "        return torch.tensor([self.word_to_ix[i] for i in [*left_context, *right_context]], dtype=torch.long), \\\n",
    "    torch.tensor(self.word_to_ix[self.words[index]], dtype=torch.long),\n",
    "        \n",
    "    def __len__(self):\n",
    "        return self.n_namples\n",
    "    \n",
    "dataset = AnyData()\n",
    "dataset[0]\n",
    "dataloader = DataLoader(dataset=dataset, batch_size=1, shuffle=True)\n",
    "dataiter = iter(dataloader)\n",
    "data_1 = dataiter.next()"
   ]
  },
  {
   "cell_type": "markdown",
   "metadata": {},
   "source": [
    "# CBOW model"
   ]
  },
  {
   "cell_type": "code",
   "execution_count": null,
   "metadata": {},
   "outputs": [],
   "source": [
    "import torch.nn as nn\n",
    "\n",
    "class CBOW(torch.nn.Module):\n",
    "    def __init__(self, vocab_size, embedding_dim):\n",
    "        super(CBOW, self).__init__()\n",
    "\n",
    "        #out: 1 x emdedding_dim\n",
    "        self.embeddings = nn.Embedding(vocab_size, embedding_dim)\n",
    "        self.linear1 = nn.Linear(embedding_dim, 128)\n",
    "        self.activation_function1 = nn.ReLU()\n",
    "        \n",
    "        #out: 1 x vocab_size\n",
    "        self.linear2 = nn.Linear(128, vocab_size)\n",
    "        self.activation_function2 = nn.LogSoftmax(dim = -1)\n",
    "        \n",
    "\n",
    "    def forward(self, inputs):\n",
    "        embeds = self.embeddings(inputs.view(-1,1))[:, -1, :]\n",
    "        embeds = torch.mean(embeds, dim=0).view(1,-1)\n",
    "        out = self.linear1(embeds)\n",
    "        out = self.activation_function1(out)\n",
    "        out = self.linear2(out)\n",
    "        out = self.activation_function2(out)\n",
    "        return out\n",
    "\n",
    "    def get_word_emdedding(self, word):\n",
    "        word = torch.tensor([word_to_ix[word]])\n",
    "        return self.embeddings(word).view(1,-1)\n",
    "\n",
    "\n"
   ]
  },
  {
   "cell_type": "markdown",
   "metadata": {},
   "source": [
    "# Train"
   ]
  },
  {
   "cell_type": "code",
   "execution_count": null,
   "metadata": {},
   "outputs": [
    {
     "name": "stderr",
     "output_type": "stream",
     "text": [
      "100%|██████████| 32424/32424 [01:09<00:00, 467.01it/s]\n"
     ]
    },
    {
     "name": "stdout",
     "output_type": "stream",
     "text": [
      "Epoch 0, total loss 337272.5625\n"
     ]
    },
    {
     "name": "stderr",
     "output_type": "stream",
     "text": [
      "100%|██████████| 32424/32424 [01:09<00:00, 464.92it/s]\n",
      "100%|██████████| 32424/32424 [01:07<00:00, 483.41it/s]\n"
     ]
    },
    {
     "name": "stdout",
     "output_type": "stream",
     "text": [
      "Epoch 2, total loss 1403462.0\n"
     ]
    }
   ],
   "source": [
    "EMDEDDING_DIM = 100\n",
    "model = CBOW(len(dataset), EMDEDDING_DIM)\n",
    "loss_function = nn.NLLLoss()\n",
    "optimizer = torch.optim.SGD(model.parameters(), lr=0.001)\n",
    "\n",
    "dataset = AnyData()\n",
    "dataloader = DataLoader(dataset=dataset, batch_size=1, shuffle=True)\n",
    "\n",
    "from tqdm import tqdm\n",
    "for epoch in range(50):\n",
    "    total_loss = 0\n",
    "\n",
    "    for context, target in tqdm(dataloader):\n",
    "        log_probs = model(context)\n",
    "\n",
    "        total_loss += loss_function(log_probs, target)\n",
    "    if epoch % 2 == 0:\n",
    "        print(f'Epoch {epoch}, total loss {total_loss}')\n",
    "    #optimize at the end of each epoch\n",
    "    optimizer.zero_grad()\n",
    "    total_loss.backward()\n",
    "    optimizer.step()"
   ]
  }
 ],
 "metadata": {
  "kernelspec": {
   "display_name": "Python 3",
   "language": "python",
   "name": "python3"
  },
  "language_info": {
   "codemirror_mode": {
    "name": "ipython",
    "version": 3
   },
   "file_extension": ".py",
   "mimetype": "text/x-python",
   "name": "python",
   "nbconvert_exporter": "python",
   "pygments_lexer": "ipython3",
   "version": "3.8.5"
  }
 },
 "nbformat": 4,
 "nbformat_minor": 4
}
